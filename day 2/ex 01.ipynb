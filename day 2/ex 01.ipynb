{
 "cells": [
  {
   "cell_type": "code",
   "execution_count": 1,
   "id": "brutal-space",
   "metadata": {},
   "outputs": [],
   "source": [
    "import pandas as pd"
   ]
  },
  {
   "cell_type": "code",
   "execution_count": 2,
   "id": "compressed-vulnerability",
   "metadata": {},
   "outputs": [],
   "source": [
    "dataset = pd.read_csv(\"dataset.csv\")"
   ]
  },
  {
   "cell_type": "code",
   "execution_count": 85,
   "id": "intensive-narrow",
   "metadata": {
    "scrolled": false
   },
   "outputs": [],
   "source": [
    "reg_name = dataset[\"reg_name\"]\n",
    "tax_name = dataset[\"tax_name\"]\n",
    "amount = dataset[\"amount\"]\n",
    "year = dataset[\"year\"]"
   ]
  },
  {
   "cell_type": "code",
   "execution_count": 89,
   "id": "transsexual-harvey",
   "metadata": {
    "scrolled": false
   },
   "outputs": [],
   "source": [
    "total_amount = list()\n",
    "total_year = list()\n",
    "k = 0\n",
    "for i in reg_name:\n",
    "    if i == \"Auvergne-Rhône-Alpes\" and tax_name[k] == \"CVAE\":\n",
    "        total_amount.append(amount[k])\n",
    "        total_year.append(year[k])\n",
    "    k += 1"
   ]
  },
  {
   "cell_type": "code",
   "execution_count": 90,
   "id": "military-librarian",
   "metadata": {},
   "outputs": [],
   "source": [
    "total = dict()\n",
    "n = 0\n",
    "for i in total_year:\n",
    "    if i not in total.keys():\n",
    "        total[i] = total_amount[n]\n",
    "    else:\n",
    "        total[i] += total_amount[n]\n",
    "    n += 1"
   ]
  },
  {
   "cell_type": "code",
   "execution_count": 91,
   "id": "cross-invalid",
   "metadata": {},
   "outputs": [
    {
     "name": "stdout",
     "output_type": "stream",
     "text": [
      "2012 -> 455556742.0 euros\n",
      "2013 -> 481429158.0 euros\n",
      "2014 -> 482256773.0 euros\n",
      "2015 -> 498635082.0 euros\n",
      "2016 -> 506545917.0 euros\n",
      "2017 -> 1060240622.0 euros\n",
      "2018 -> 1066617698.0 euros\n",
      "2019 -> 1136669837.0 euros\n"
     ]
    }
   ],
   "source": [
    "sort = sorted(total)\n",
    "for i in sort:\n",
    "    print(i, \"->\", total[i], \"euros\")"
   ]
  },
  {
   "cell_type": "code",
   "execution_count": null,
   "id": "charitable-conclusion",
   "metadata": {},
   "outputs": [],
   "source": []
  }
 ],
 "metadata": {
  "kernelspec": {
   "display_name": "Python 3",
   "language": "python",
   "name": "python3"
  },
  "language_info": {
   "codemirror_mode": {
    "name": "ipython",
    "version": 3
   },
   "file_extension": ".py",
   "mimetype": "text/x-python",
   "name": "python",
   "nbconvert_exporter": "python",
   "pygments_lexer": "ipython3",
   "version": "3.9.2"
  }
 },
 "nbformat": 4,
 "nbformat_minor": 5
}
